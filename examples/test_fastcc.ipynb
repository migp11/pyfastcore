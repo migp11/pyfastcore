{
 "cells": [
  {
   "cell_type": "code",
   "execution_count": 6,
   "metadata": {
    "scrolled": true
   },
   "outputs": [],
   "source": [
    "import json\n",
    "from cobra.io import read_sbml_model\n",
    "from cobra.flux_analysis import find_blocked_reactions\n",
    "from cobra.flux_analysis import flux_variability_analysis\n",
    "from fastcore import Fastcore"
   ]
  },
  {
   "cell_type": "code",
   "execution_count": 3,
   "metadata": {},
   "outputs": [],
   "source": [
    "model = read_sbml_model('data/Recon2.2.xml')\n",
    "\n",
    "for r in model.reactions:\n",
    "    r.lower_bound *= 100\n",
    "    r.upper_bound *= 100\n",
    "    \n",
    "with open('data/Recon2.2_blocked_rxns.json') as fh:\n",
    "    fva_blocked = json.load(fh)\n",
    "    fva_blocked = set(fva_blocked)"
   ]
  },
  {
   "cell_type": "code",
   "execution_count": 4,
   "metadata": {},
   "outputs": [
    {
     "name": "stdout",
     "output_type": "stream",
     "text": [
      "CPU times: user 44.6 s, sys: 20 ms, total: 44.7 s\n",
      "Wall time: 44.8 s\n",
      "1921\n"
     ]
    }
   ],
   "source": [
    "%time fast_cc_blocked = Fastcore.fast_find_blocked(model)\n",
    "print(len(fast_cc_blocked))"
   ]
  },
  {
   "cell_type": "code",
   "execution_count": 5,
   "metadata": {},
   "outputs": [
    {
     "name": "stdout",
     "output_type": "stream",
     "text": [
      "CPU times: user 3min 31s, sys: 52 ms, total: 3min 31s\n",
      "Wall time: 3min 31s\n",
      "1919\n"
     ]
    },
    {
     "data": {
      "text/plain": [
       "{'EX_HC02200_LPAREN_e_RPAREN_', 'NADKm'}"
      ]
     },
     "execution_count": 5,
     "metadata": {},
     "output_type": "execute_result"
    }
   ],
   "source": [
    "%time fva_blocked = find_blocked_reactions(model)\n",
    "print(len(fva_blocked))\n",
    "fast_cc_blocked - set(fva_blocked)"
   ]
  },
  {
   "cell_type": "code",
   "execution_count": 13,
   "metadata": {},
   "outputs": [
    {
     "data": {
      "text/plain": [
       "maximum    0.0\n",
       "minimum    0.0\n",
       "Name: NADKm, dtype: float64"
      ]
     },
     "execution_count": 13,
     "metadata": {},
     "output_type": "execute_result"
    }
   ],
   "source": [
    "df = flux_variability_analysis(model, reaction_list=list(fast_cc_blocked - set(fva_blocked)))"
   ]
  },
  {
   "cell_type": "code",
   "execution_count": 12,
   "metadata": {},
   "outputs": [
    {
     "name": "stdout",
     "output_type": "stream",
     "text": [
      "CPU times: user 72 ms, sys: 0 ns, total: 72 ms\n",
      "Wall time: 69.9 ms\n",
      "CPU times: user 28 ms, sys: 0 ns, total: 28 ms\n",
      "Wall time: 27.5 ms\n"
     ]
    }
   ],
   "source": [
    "from cobra.test import create_test_model\n",
    "ecoli = create_test_model('textbook')\n",
    "\n",
    "ecoli.reactions.ATPM.lower_bound = 0\n",
    "ecoli.reactions.EX_glc__D_e.lower_bound = -10000\n",
    "ecoli.reactions.EX_o2_e.lower_bound = -10000\n",
    "\n",
    "%time fcc_blocked = Fastcore.fast_find_blocked(ecoli)\n",
    "%time fva_blocked = find_blocked_reactions(ecoli)"
   ]
  }
 ],
 "metadata": {
  "kernelspec": {
   "display_name": "Python 3",
   "language": "python",
   "name": "python3"
  },
  "language_info": {
   "codemirror_mode": {
    "name": "ipython",
    "version": 3
   },
   "file_extension": ".py",
   "mimetype": "text/x-python",
   "name": "python",
   "nbconvert_exporter": "python",
   "pygments_lexer": "ipython3",
   "version": "3.5.2"
  }
 },
 "nbformat": 4,
 "nbformat_minor": 2
}
