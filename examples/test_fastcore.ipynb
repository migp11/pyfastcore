{
 "cells": [
  {
   "cell_type": "code",
   "execution_count": 5,
   "metadata": {
    "scrolled": true
   },
   "outputs": [],
   "source": [
    "import json\n",
    "import pandas as pd\n",
    "\n",
    "from cobra.io import read_sbml_model, write_sbml_model\n",
    "\n",
    "from corda import CORDA\n",
    "from corda.util import reaction_confidence\n",
    "from fastcore import Fastcore\n",
    "\n",
    "from fastcore import read_json, set_medium\n",
    "\n",
    "\n",
    "def create_reaction_confidences(model, gene_condidence, column='CNS'):\n",
    "    # Creating a reactions confidence dict using gene confidendes (df_HPAC.CNS)\n",
    "    # and the corda function reaction_confidence\n",
    "    rxns_confidence = dict()\n",
    "    for r in model.reactions:\n",
    "        # Creating a confidence dict for each particular reaction\n",
    "        conf_genes = {g.id: gene_condidence[column][g.id] for g in r.genes}\n",
    "        # Calculating the confidence for a reactions\n",
    "        rxns_confidence[r.id] = reaction_confidence(r.gene_reaction_rule, conf_genes)\n",
    "    \n",
    "    return rxns_confidence"
   ]
  },
  {
   "cell_type": "code",
   "execution_count": 3,
   "metadata": {
    "scrolled": true
   },
   "outputs": [
    {
     "name": "stdout",
     "output_type": "stream",
     "text": [
      "555.7858784751153\n",
      "0.08444376889461447\n"
     ]
    }
   ],
   "source": [
    "model = read_sbml_model('data/Recon2.2.xml')\n",
    "solution = model.optimize()\n",
    "print(solution.f)\n",
    "\n",
    "with open('data/RPMI_1640_media.json') as fh:\n",
    "    media_dict = json.load(fh)\n",
    "\n",
    "with open('data/MIAPACA2_fc_rxn_penalties.json') as fh:\n",
    "    fc_penalty_rxn_dict = json.load(fh)\n",
    "\n",
    "# for k in media_dict.keys():\n",
    "#     media_dict[k] = 1000\n",
    "\n",
    "df_gene_confidences = pd.read_csv('data/genes_ConfTab.MIAPACA2_PANCREAS.tsv', sep='\\t')\n",
    "df_gene_confidences.set_index('hgnc_id', inplace=True)\n",
    "reaction_confidences = create_reaction_confidences(model, df_gene_confidences)\n",
    "\n",
    "set_medium(model, media_dict, inplace=True)\n",
    "solution = model.optimize()\n",
    "print(solution.f)"
   ]
  },
  {
   "cell_type": "code",
   "execution_count": 6,
   "metadata": {
    "scrolled": true
   },
   "outputs": [
    {
     "name": "stdout",
     "output_type": "stream",
     "text": [
      "===========================================================\n",
      "Initializing Fastcore Builder using\n",
      "Model: MODEL1603150001\n",
      "- Nº of reactions: 7785\n",
      "- Nº of core reactions: 1012\n",
      "Checking network consistency (may take some minutes)\n",
      "Warning, original model contains inconsistent reactions\n",
      "- Nº of blocked reactions: 2975\n",
      "- Nº of gap metabolites: 2740\n",
      "\n",
      "Pruning model inconsistencies\n",
      "- Nº of reactions after pruning: 4810\n",
      "- Nº of core reactions after pruning: 713\n",
      "\n",
      "Initializing LP7 and LP10\n",
      "Fastcore builder ready!\n",
      "===========================================================\n"
     ]
    }
   ],
   "source": [
    "core_reactions = [k for k,v in reaction_confidences.items() if v>2]\n",
    "fc_builder = Fastcore(model, core_reactions, penalties=fc_penalty_rxn_dict, debug_mode=True)\n",
    "\n",
    "blocked_reactions = fc_builder.blocked_reactions\n",
    "gap_metabolites = fc_builder.gap_metabolites"
   ]
  },
  {
   "cell_type": "code",
   "execution_count": null,
   "metadata": {},
   "outputs": [],
   "source": [
    "fc_builder._scaling_factor = 1e5\n",
    "fc_builder.fast_core()\n",
    "# fastcore_model = fc_builder.build_context_specific_model()\n",
    "fastcore_rxns_4  = fc_builder.get_context_specific_set()"
   ]
  },
  {
   "cell_type": "code",
   "execution_count": null,
   "metadata": {},
   "outputs": [],
   "source": [
    "# corda_builder = CORDA(model, reaction_confidences)\n",
    "# corda_builder.build()\n",
    "# corda_model = corda_builder.cobra_model()\n",
    "# fastcore_rxns = {r.id for r in cs_model.reactions}\n",
    "# corda_blocked = Fastcore.fast_find_blocked(corda_model)"
   ]
  },
  {
   "cell_type": "code",
   "execution_count": null,
   "metadata": {},
   "outputs": [],
   "source": [
    "corda_rxns = {r.id for r in corda_model.reactions}\n",
    "for i in range(-1,4):\n",
    "    fastcore_count = len([r for r in fastcore_rxns if reaction_confidences[r] == i])\n",
    "    corda_count = len([r for r in (corda_rxns - blocked) if reaction_confidences[r] == i])\n",
    "    total_count = len([r.id for r in model.reactions if reaction_confidences[r.id] == i])\n",
    "    print(i, fastcore_count, corda_count, total_count)\n",
    "\n",
    "print()\n",
    "jaccard = len((corda_rxns - corda_blocked) & fastcore_rxns) / len(corda_rxns | fastcore_rxns)\n",
    "print(jaccard)"
   ]
  },
  {
   "cell_type": "code",
   "execution_count": null,
   "metadata": {},
   "outputs": [],
   "source": [
    "# fastcore_model = fc_builder.build_context_specific_model()\n",
    "# corda_blocked = Fastcore.fast_find_blocked(fastcore_model)\n",
    "# corda_blocked\n",
    "\n",
    "len(fastcore_rxns_5 & fastcore_rxns_4) / len(fastcore_rxns_5 | fastcore_rxns_4) "
   ]
  },
  {
   "cell_type": "code",
   "execution_count": 7,
   "metadata": {},
   "outputs": [
    {
     "data": {
      "text/plain": [
       "'cholesterol ester'"
      ]
     },
     "execution_count": 7,
     "metadata": {},
     "output_type": "execute_result"
    }
   ],
   "source": [
    "model.metabolites.xolest2_hs_c.name\n"
   ]
  }
 ],
 "metadata": {
  "kernelspec": {
   "display_name": "Python 3",
   "language": "python",
   "name": "python3"
  },
  "language_info": {
   "codemirror_mode": {
    "name": "ipython",
    "version": 3
   },
   "file_extension": ".py",
   "mimetype": "text/x-python",
   "name": "python",
   "nbconvert_exporter": "python",
   "pygments_lexer": "ipython3",
   "version": "3.5.2"
  }
 },
 "nbformat": 4,
 "nbformat_minor": 2
}
